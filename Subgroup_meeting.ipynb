{
 "cells": [
  {
   "cell_type": "markdown",
   "metadata": {},
   "source": [
    "# Kinetic Informatics Subgroup Meeting (Thurs 9am - 10 am)\n",
    "\n",
    "## People\n",
    "\n",
    "- AJ Medford\n",
    "- Chaoyi Chang (biomass catalytic system)\n",
    "- Gabriel Gusmao (neural net solving microkinetic models)\n",
    "- Adam Yonge (TAP reactor kinetics)"
    "- Giada Innocenti"
   ]
  },
  {
   "cell_type": "markdown",
   "metadata": {},
   "source": [
    "## ~10 - 15 mins research update\n",
    "\n",
    "### What you should talk about\n",
    "- subgroup meeting as a replacement of individual meeting\n",
    "- your most recent research result (and provide data if possible)\n",
    "- where you have questions/problems/get stuck, including but not limit to\n",
    "    - code debugging\n",
    "    - having trouble with understanding algorithms\n",
    "    - software compiling/installing\n",
    "    - results explanation\n",
    "    - ...\n",
    "    \n",
    "### Format\n",
    "- slides presentation\n",
    "- jupyter notebook\n",
    "- others...\n",
    " "
   ]
  },
  {
   "cell_type": "markdown",
   "metadata": {},
   "source": [
    "## ~10 - 15 mins research/literature/tools/...\n",
    "\n",
    "### What you should talk about\n",
    "- summary of 1 or more literature(s) you recently read or\n",
    "- research presentation like above\n",
    "- brief introduction of a model that widely used in your area of research\n",
    "- brief introduction of tool(s) you find useful like\n",
    "    - Catmap\n",
    "    - Fenics\n",
    "    - Mol2vec\n",
    "    - ...\n",
    "\n",
    "### Format\n",
    "- slides presentation\n",
    "- PDF version of paper\n",
    "- jupyter notebook if showing the tool usage\n",
    "- go through a tutorial\n",
    "- other...\n",
    "\n",
    "### Recommended reading\n",
    "- Heyden\n",
    "- Vlachos\n",
    "- ..."
   ]
  },
  {
   "cell_type": "markdown",
   "metadata": {},
   "source": [
    "# Schedule"
   ]
  },
  {
   "cell_type": "markdown",
   "metadata": {},
   "source": [
    "- 01/16  \n",
    "    - Chaoyi Chang / Adam Yonge\n",
    "- 01/23  \n",
    "    - No Meeting\n",
    "- 01/30  \n",
    "    - Adam Yonge / Gabriel Gusmao\n",
    "- 02/06  \n",
    "    - No Meeting\n",
    "- 02/13  \n",
    "    - Gabriel Gusmao / Chaoyi Chang\n",
    "- 02/20  \n",
    "    - Chaoyi Chang / Adam Yonge\n",
    "- 02/27  \n",
    "    - No Meeting\n",
    "- 03/05\n",
    "    - Adam Yonge / Gabriel Gusmao\n",
    "- 03/12\n",
    "    - Gabriel Gusmao / Chaoyi Chang\n",
    "- 03/19 \n",
    "    - No Meeting\n",
    "- 03/26\n",
    "    - Chaoyi Chang / Adam Yonge\n",
    "- 04/02\n",
    "    - Adam Yonge / Gabriel Gusmao\n",
    "- 04/09\n",
    "    - Gabriel Gusmao / Chaoyi Chang\n",
    "- 04/16\n",
    "    - Chaoyi Chang / Adam Yonge\n",
    "- 04/23\n",
    "    - Adam Yonge / Gabriel Gusmao\n",
    "- 04/30\n",
    "    - Gabriel Gusmao / Chaoyi Chang\n",
    "- 05/07\n",
    "    - Chaoyi Chang / Adam Yonge"
   ]
  },
  {
   "cell_type": "code",
   "execution_count": null,
   "metadata": {},
   "outputs": [],
   "source": []
  }
 ],
 "metadata": {
  "kernelspec": {
   "display_name": "Python 3",
   "language": "python",
   "name": "python3"
  },
  "language_info": {
   "codemirror_mode": {
    "name": "ipython",
    "version": 3
   },
   "file_extension": ".py",
   "mimetype": "text/x-python",
   "name": "python",
   "nbconvert_exporter": "python",
   "pygments_lexer": "ipython3",
   "version": "3.6.8"
  }
 },
 "nbformat": 4,
 "nbformat_minor": 2
}
